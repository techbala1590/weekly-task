{
  "nbformat": 4,
  "nbformat_minor": 0,
  "metadata": {
    "colab": {
      "provenance": [],
      "mount_file_id": "1fxaxhuaVdnzCB8PAO3W51qAetUMGrpTO",
      "authorship_tag": "ABX9TyMad66XXIo641K04AAs+8kA",
      "include_colab_link": true
    },
    "kernelspec": {
      "name": "python3",
      "display_name": "Python 3"
    },
    "language_info": {
      "name": "python"
    }
  },
  "cells": [
    {
      "cell_type": "markdown",
      "metadata": {
        "id": "view-in-github",
        "colab_type": "text"
      },
      "source": [
        "<a href=\"https://colab.research.google.com/github/techbala1590/weekly-task/blob/main/Task_3_.ipynb\" target=\"_parent\"><img src=\"https://colab.research.google.com/assets/colab-badge.svg\" alt=\"Open In Colab\"/></a>"
      ]
    },
    {
      "cell_type": "code",
      "source": [
        "from google.colab import drive"
      ],
      "metadata": {
        "id": "m6KHK_Vx3Z0M"
      },
      "execution_count": null,
      "outputs": []
    },
    {
      "cell_type": "code",
      "source": [
        "drive.mount( '/content/drive' )"
      ],
      "metadata": {
        "colab": {
          "base_uri": "https://localhost:8080/"
        },
        "id": "CwH42xX-OWFi",
        "outputId": "4c1cfc7f-dc66-4a57-aa41-d4a2f8be6220"
      },
      "execution_count": null,
      "outputs": [
        {
          "output_type": "stream",
          "name": "stdout",
          "text": [
            "Mounted at /content/drive\n"
          ]
        }
      ]
    },
    {
      "cell_type": "code",
      "source": [
        "from google.colab import drive\n",
        "drive.mount('/content/drive')"
      ],
      "metadata": {
        "colab": {
          "base_uri": "https://localhost:8080/"
        },
        "id": "pHcTHokaO2AC",
        "outputId": "f0778533-acaa-4390-bb2f-2860709c40e2"
      },
      "execution_count": null,
      "outputs": [
        {
          "output_type": "stream",
          "name": "stdout",
          "text": [
            "Drive already mounted at /content/drive; to attempt to forcibly remount, call drive.mount(\"/content/drive\", force_remount=True).\n"
          ]
        }
      ]
    },
    {
      "cell_type": "code",
      "execution_count": null,
      "metadata": {
        "id": "6coFwQFLr0dA",
        "colab": {
          "base_uri": "https://localhost:8080/",
          "height": 308
        },
        "outputId": "bed3b74e-4d1f-43ee-9cd9-f4d4c8f4bacc"
      },
      "outputs": [
        {
          "output_type": "execute_result",
          "data": {
            "text/plain": [
              "   symboling  normalized_losses         make fuel_type aspiration  \\\n",
              "0          3                168  alfa-romero       gas        std   \n",
              "1          3                168  alfa-romero       gas        std   \n",
              "2          1                168  alfa-romero       gas        std   \n",
              "3          2                164         audi       gas        std   \n",
              "4          2                164         audi       gas        std   \n",
              "\n",
              "  number_of_doors   body_style drive_wheels engine_location  wheel_base  ...  \\\n",
              "0             two  convertible          rwd           front        88.6  ...   \n",
              "1             two  convertible          rwd           front        88.6  ...   \n",
              "2             two    hatchback          rwd           front        94.5  ...   \n",
              "3            four        sedan          fwd           front        99.8  ...   \n",
              "4            four        sedan          4wd           front        99.4  ...   \n",
              "\n",
              "   engine_size  fuel_system  bore  stroke compression_ratio horsepower  \\\n",
              "0          130         mpfi  3.47    2.68               9.0        111   \n",
              "1          130         mpfi  3.47    2.68               9.0        111   \n",
              "2          152         mpfi  2.68    3.47               9.0        154   \n",
              "3          109         mpfi  3.19    3.40              10.0        102   \n",
              "4          136         mpfi  3.19    3.40               8.0        115   \n",
              "\n",
              "   peak_rpm city_mpg  highway_mpg  price  \n",
              "0      5000       21           27  13495  \n",
              "1      5000       21           27  16500  \n",
              "2      5000       19           26  16500  \n",
              "3      5500       24           30  13950  \n",
              "4      5500       18           22  17450  \n",
              "\n",
              "[5 rows x 26 columns]"
            ],
            "text/html": [
              "\n",
              "  <div id=\"df-ae8203a0-fe3e-486a-945b-2b56750eb500\" class=\"colab-df-container\">\n",
              "    <div>\n",
              "<style scoped>\n",
              "    .dataframe tbody tr th:only-of-type {\n",
              "        vertical-align: middle;\n",
              "    }\n",
              "\n",
              "    .dataframe tbody tr th {\n",
              "        vertical-align: top;\n",
              "    }\n",
              "\n",
              "    .dataframe thead th {\n",
              "        text-align: right;\n",
              "    }\n",
              "</style>\n",
              "<table border=\"1\" class=\"dataframe\">\n",
              "  <thead>\n",
              "    <tr style=\"text-align: right;\">\n",
              "      <th></th>\n",
              "      <th>symboling</th>\n",
              "      <th>normalized_losses</th>\n",
              "      <th>make</th>\n",
              "      <th>fuel_type</th>\n",
              "      <th>aspiration</th>\n",
              "      <th>number_of_doors</th>\n",
              "      <th>body_style</th>\n",
              "      <th>drive_wheels</th>\n",
              "      <th>engine_location</th>\n",
              "      <th>wheel_base</th>\n",
              "      <th>...</th>\n",
              "      <th>engine_size</th>\n",
              "      <th>fuel_system</th>\n",
              "      <th>bore</th>\n",
              "      <th>stroke</th>\n",
              "      <th>compression_ratio</th>\n",
              "      <th>horsepower</th>\n",
              "      <th>peak_rpm</th>\n",
              "      <th>city_mpg</th>\n",
              "      <th>highway_mpg</th>\n",
              "      <th>price</th>\n",
              "    </tr>\n",
              "  </thead>\n",
              "  <tbody>\n",
              "    <tr>\n",
              "      <th>0</th>\n",
              "      <td>3</td>\n",
              "      <td>168</td>\n",
              "      <td>alfa-romero</td>\n",
              "      <td>gas</td>\n",
              "      <td>std</td>\n",
              "      <td>two</td>\n",
              "      <td>convertible</td>\n",
              "      <td>rwd</td>\n",
              "      <td>front</td>\n",
              "      <td>88.6</td>\n",
              "      <td>...</td>\n",
              "      <td>130</td>\n",
              "      <td>mpfi</td>\n",
              "      <td>3.47</td>\n",
              "      <td>2.68</td>\n",
              "      <td>9.0</td>\n",
              "      <td>111</td>\n",
              "      <td>5000</td>\n",
              "      <td>21</td>\n",
              "      <td>27</td>\n",
              "      <td>13495</td>\n",
              "    </tr>\n",
              "    <tr>\n",
              "      <th>1</th>\n",
              "      <td>3</td>\n",
              "      <td>168</td>\n",
              "      <td>alfa-romero</td>\n",
              "      <td>gas</td>\n",
              "      <td>std</td>\n",
              "      <td>two</td>\n",
              "      <td>convertible</td>\n",
              "      <td>rwd</td>\n",
              "      <td>front</td>\n",
              "      <td>88.6</td>\n",
              "      <td>...</td>\n",
              "      <td>130</td>\n",
              "      <td>mpfi</td>\n",
              "      <td>3.47</td>\n",
              "      <td>2.68</td>\n",
              "      <td>9.0</td>\n",
              "      <td>111</td>\n",
              "      <td>5000</td>\n",
              "      <td>21</td>\n",
              "      <td>27</td>\n",
              "      <td>16500</td>\n",
              "    </tr>\n",
              "    <tr>\n",
              "      <th>2</th>\n",
              "      <td>1</td>\n",
              "      <td>168</td>\n",
              "      <td>alfa-romero</td>\n",
              "      <td>gas</td>\n",
              "      <td>std</td>\n",
              "      <td>two</td>\n",
              "      <td>hatchback</td>\n",
              "      <td>rwd</td>\n",
              "      <td>front</td>\n",
              "      <td>94.5</td>\n",
              "      <td>...</td>\n",
              "      <td>152</td>\n",
              "      <td>mpfi</td>\n",
              "      <td>2.68</td>\n",
              "      <td>3.47</td>\n",
              "      <td>9.0</td>\n",
              "      <td>154</td>\n",
              "      <td>5000</td>\n",
              "      <td>19</td>\n",
              "      <td>26</td>\n",
              "      <td>16500</td>\n",
              "    </tr>\n",
              "    <tr>\n",
              "      <th>3</th>\n",
              "      <td>2</td>\n",
              "      <td>164</td>\n",
              "      <td>audi</td>\n",
              "      <td>gas</td>\n",
              "      <td>std</td>\n",
              "      <td>four</td>\n",
              "      <td>sedan</td>\n",
              "      <td>fwd</td>\n",
              "      <td>front</td>\n",
              "      <td>99.8</td>\n",
              "      <td>...</td>\n",
              "      <td>109</td>\n",
              "      <td>mpfi</td>\n",
              "      <td>3.19</td>\n",
              "      <td>3.40</td>\n",
              "      <td>10.0</td>\n",
              "      <td>102</td>\n",
              "      <td>5500</td>\n",
              "      <td>24</td>\n",
              "      <td>30</td>\n",
              "      <td>13950</td>\n",
              "    </tr>\n",
              "    <tr>\n",
              "      <th>4</th>\n",
              "      <td>2</td>\n",
              "      <td>164</td>\n",
              "      <td>audi</td>\n",
              "      <td>gas</td>\n",
              "      <td>std</td>\n",
              "      <td>four</td>\n",
              "      <td>sedan</td>\n",
              "      <td>4wd</td>\n",
              "      <td>front</td>\n",
              "      <td>99.4</td>\n",
              "      <td>...</td>\n",
              "      <td>136</td>\n",
              "      <td>mpfi</td>\n",
              "      <td>3.19</td>\n",
              "      <td>3.40</td>\n",
              "      <td>8.0</td>\n",
              "      <td>115</td>\n",
              "      <td>5500</td>\n",
              "      <td>18</td>\n",
              "      <td>22</td>\n",
              "      <td>17450</td>\n",
              "    </tr>\n",
              "  </tbody>\n",
              "</table>\n",
              "<p>5 rows × 26 columns</p>\n",
              "</div>\n",
              "    <div class=\"colab-df-buttons\">\n",
              "\n",
              "  <div class=\"colab-df-container\">\n",
              "    <button class=\"colab-df-convert\" onclick=\"convertToInteractive('df-ae8203a0-fe3e-486a-945b-2b56750eb500')\"\n",
              "            title=\"Convert this dataframe to an interactive table.\"\n",
              "            style=\"display:none;\">\n",
              "\n",
              "  <svg xmlns=\"http://www.w3.org/2000/svg\" height=\"24px\" viewBox=\"0 -960 960 960\">\n",
              "    <path d=\"M120-120v-720h720v720H120Zm60-500h600v-160H180v160Zm220 220h160v-160H400v160Zm0 220h160v-160H400v160ZM180-400h160v-160H180v160Zm440 0h160v-160H620v160ZM180-180h160v-160H180v160Zm440 0h160v-160H620v160Z\"/>\n",
              "  </svg>\n",
              "    </button>\n",
              "\n",
              "  <style>\n",
              "    .colab-df-container {\n",
              "      display:flex;\n",
              "      gap: 12px;\n",
              "    }\n",
              "\n",
              "    .colab-df-convert {\n",
              "      background-color: #E8F0FE;\n",
              "      border: none;\n",
              "      border-radius: 50%;\n",
              "      cursor: pointer;\n",
              "      display: none;\n",
              "      fill: #1967D2;\n",
              "      height: 32px;\n",
              "      padding: 0 0 0 0;\n",
              "      width: 32px;\n",
              "    }\n",
              "\n",
              "    .colab-df-convert:hover {\n",
              "      background-color: #E2EBFA;\n",
              "      box-shadow: 0px 1px 2px rgba(60, 64, 67, 0.3), 0px 1px 3px 1px rgba(60, 64, 67, 0.15);\n",
              "      fill: #174EA6;\n",
              "    }\n",
              "\n",
              "    .colab-df-buttons div {\n",
              "      margin-bottom: 4px;\n",
              "    }\n",
              "\n",
              "    [theme=dark] .colab-df-convert {\n",
              "      background-color: #3B4455;\n",
              "      fill: #D2E3FC;\n",
              "    }\n",
              "\n",
              "    [theme=dark] .colab-df-convert:hover {\n",
              "      background-color: #434B5C;\n",
              "      box-shadow: 0px 1px 3px 1px rgba(0, 0, 0, 0.15);\n",
              "      filter: drop-shadow(0px 1px 2px rgba(0, 0, 0, 0.3));\n",
              "      fill: #FFFFFF;\n",
              "    }\n",
              "  </style>\n",
              "\n",
              "    <script>\n",
              "      const buttonEl =\n",
              "        document.querySelector('#df-ae8203a0-fe3e-486a-945b-2b56750eb500 button.colab-df-convert');\n",
              "      buttonEl.style.display =\n",
              "        google.colab.kernel.accessAllowed ? 'block' : 'none';\n",
              "\n",
              "      async function convertToInteractive(key) {\n",
              "        const element = document.querySelector('#df-ae8203a0-fe3e-486a-945b-2b56750eb500');\n",
              "        const dataTable =\n",
              "          await google.colab.kernel.invokeFunction('convertToInteractive',\n",
              "                                                    [key], {});\n",
              "        if (!dataTable) return;\n",
              "\n",
              "        const docLinkHtml = 'Like what you see? Visit the ' +\n",
              "          '<a target=\"_blank\" href=https://colab.research.google.com/notebooks/data_table.ipynb>data table notebook</a>'\n",
              "          + ' to learn more about interactive tables.';\n",
              "        element.innerHTML = '';\n",
              "        dataTable['output_type'] = 'display_data';\n",
              "        await google.colab.output.renderOutput(dataTable, element);\n",
              "        const docLink = document.createElement('div');\n",
              "        docLink.innerHTML = docLinkHtml;\n",
              "        element.appendChild(docLink);\n",
              "      }\n",
              "    </script>\n",
              "  </div>\n",
              "\n",
              "\n",
              "<div id=\"df-d4f14dab-b6e0-4ec4-bc79-8c219f2bd2df\">\n",
              "  <button class=\"colab-df-quickchart\" onclick=\"quickchart('df-d4f14dab-b6e0-4ec4-bc79-8c219f2bd2df')\"\n",
              "            title=\"Suggest charts\"\n",
              "            style=\"display:none;\">\n",
              "\n",
              "<svg xmlns=\"http://www.w3.org/2000/svg\" height=\"24px\"viewBox=\"0 0 24 24\"\n",
              "     width=\"24px\">\n",
              "    <g>\n",
              "        <path d=\"M19 3H5c-1.1 0-2 .9-2 2v14c0 1.1.9 2 2 2h14c1.1 0 2-.9 2-2V5c0-1.1-.9-2-2-2zM9 17H7v-7h2v7zm4 0h-2V7h2v10zm4 0h-2v-4h2v4z\"/>\n",
              "    </g>\n",
              "</svg>\n",
              "  </button>\n",
              "\n",
              "<style>\n",
              "  .colab-df-quickchart {\n",
              "      --bg-color: #E8F0FE;\n",
              "      --fill-color: #1967D2;\n",
              "      --hover-bg-color: #E2EBFA;\n",
              "      --hover-fill-color: #174EA6;\n",
              "      --disabled-fill-color: #AAA;\n",
              "      --disabled-bg-color: #DDD;\n",
              "  }\n",
              "\n",
              "  [theme=dark] .colab-df-quickchart {\n",
              "      --bg-color: #3B4455;\n",
              "      --fill-color: #D2E3FC;\n",
              "      --hover-bg-color: #434B5C;\n",
              "      --hover-fill-color: #FFFFFF;\n",
              "      --disabled-bg-color: #3B4455;\n",
              "      --disabled-fill-color: #666;\n",
              "  }\n",
              "\n",
              "  .colab-df-quickchart {\n",
              "    background-color: var(--bg-color);\n",
              "    border: none;\n",
              "    border-radius: 50%;\n",
              "    cursor: pointer;\n",
              "    display: none;\n",
              "    fill: var(--fill-color);\n",
              "    height: 32px;\n",
              "    padding: 0;\n",
              "    width: 32px;\n",
              "  }\n",
              "\n",
              "  .colab-df-quickchart:hover {\n",
              "    background-color: var(--hover-bg-color);\n",
              "    box-shadow: 0 1px 2px rgba(60, 64, 67, 0.3), 0 1px 3px 1px rgba(60, 64, 67, 0.15);\n",
              "    fill: var(--button-hover-fill-color);\n",
              "  }\n",
              "\n",
              "  .colab-df-quickchart-complete:disabled,\n",
              "  .colab-df-quickchart-complete:disabled:hover {\n",
              "    background-color: var(--disabled-bg-color);\n",
              "    fill: var(--disabled-fill-color);\n",
              "    box-shadow: none;\n",
              "  }\n",
              "\n",
              "  .colab-df-spinner {\n",
              "    border: 2px solid var(--fill-color);\n",
              "    border-color: transparent;\n",
              "    border-bottom-color: var(--fill-color);\n",
              "    animation:\n",
              "      spin 1s steps(1) infinite;\n",
              "  }\n",
              "\n",
              "  @keyframes spin {\n",
              "    0% {\n",
              "      border-color: transparent;\n",
              "      border-bottom-color: var(--fill-color);\n",
              "      border-left-color: var(--fill-color);\n",
              "    }\n",
              "    20% {\n",
              "      border-color: transparent;\n",
              "      border-left-color: var(--fill-color);\n",
              "      border-top-color: var(--fill-color);\n",
              "    }\n",
              "    30% {\n",
              "      border-color: transparent;\n",
              "      border-left-color: var(--fill-color);\n",
              "      border-top-color: var(--fill-color);\n",
              "      border-right-color: var(--fill-color);\n",
              "    }\n",
              "    40% {\n",
              "      border-color: transparent;\n",
              "      border-right-color: var(--fill-color);\n",
              "      border-top-color: var(--fill-color);\n",
              "    }\n",
              "    60% {\n",
              "      border-color: transparent;\n",
              "      border-right-color: var(--fill-color);\n",
              "    }\n",
              "    80% {\n",
              "      border-color: transparent;\n",
              "      border-right-color: var(--fill-color);\n",
              "      border-bottom-color: var(--fill-color);\n",
              "    }\n",
              "    90% {\n",
              "      border-color: transparent;\n",
              "      border-bottom-color: var(--fill-color);\n",
              "    }\n",
              "  }\n",
              "</style>\n",
              "\n",
              "  <script>\n",
              "    async function quickchart(key) {\n",
              "      const quickchartButtonEl =\n",
              "        document.querySelector('#' + key + ' button');\n",
              "      quickchartButtonEl.disabled = true;  // To prevent multiple clicks.\n",
              "      quickchartButtonEl.classList.add('colab-df-spinner');\n",
              "      try {\n",
              "        const charts = await google.colab.kernel.invokeFunction(\n",
              "            'suggestCharts', [key], {});\n",
              "      } catch (error) {\n",
              "        console.error('Error during call to suggestCharts:', error);\n",
              "      }\n",
              "      quickchartButtonEl.classList.remove('colab-df-spinner');\n",
              "      quickchartButtonEl.classList.add('colab-df-quickchart-complete');\n",
              "    }\n",
              "    (() => {\n",
              "      let quickchartButtonEl =\n",
              "        document.querySelector('#df-d4f14dab-b6e0-4ec4-bc79-8c219f2bd2df button');\n",
              "      quickchartButtonEl.style.display =\n",
              "        google.colab.kernel.accessAllowed ? 'block' : 'none';\n",
              "    })();\n",
              "  </script>\n",
              "</div>\n",
              "\n",
              "    </div>\n",
              "  </div>\n"
            ],
            "application/vnd.google.colaboratory.intrinsic+json": {
              "type": "dataframe",
              "variable_name": "automobile"
            }
          },
          "metadata": {},
          "execution_count": 20
        }
      ],
      "source": [
        "# 1. Loading a CSV File & Basic Exploration\n",
        "# Given a CSV file named \"Automobile.csv\":\n",
        "# Task\n",
        "# Write Python code to:\n",
        "# Load the CSV file into a Pandas DataFrame.\n",
        "# •\tDisplay the first 30 rows.\n",
        "# •\tPrint column names.\n",
        "# •\tPrint No of Rows & Columns\n",
        "# •\tFind the Data Types of every column & check if there are any mismatch\n",
        "# •\tWhat are the minimum & maximum price of the car & state fuel type they belong to\n",
        "# •\tList all the unique engine types\n",
        "# •\tFind the horsepower range\n",
        "# •\tWhat is the average mpg in cities & highway. Which is better?\n",
        "# •\tWhat are the different Automobile makes present & which has maximum count?\n",
        "from enum import auto\n",
        "import pandas as pd\n",
        "automobile = pd.read_csv('/content/drive/MyDrive/data/Automobile.csv')\n",
        "# •\tDisplay the first 30 rows.\n",
        "automobile.head(5)\n",
        "\n",
        "\n"
      ]
    },
    {
      "cell_type": "code",
      "source": [
        "# •\tPrint column names.\n",
        "print(automobile.columns)"
      ],
      "metadata": {
        "colab": {
          "base_uri": "https://localhost:8080/"
        },
        "id": "nwE89cm_gInx",
        "outputId": "2fd1627a-4904-470f-c358-ee22ef4eb993"
      },
      "execution_count": null,
      "outputs": [
        {
          "output_type": "stream",
          "name": "stdout",
          "text": [
            "Index(['symboling', 'normalized_losses', 'make', 'fuel_type', 'aspiration',\n",
            "       'number_of_doors', 'body_style', 'drive_wheels', 'engine_location',\n",
            "       'wheel_base', 'length', 'width', 'height', 'curb_weight', 'engine_type',\n",
            "       'number_of_cylinders', 'engine_size', 'fuel_system', 'bore', 'stroke',\n",
            "       'compression_ratio', 'horsepower', 'peak_rpm', 'city_mpg',\n",
            "       'highway_mpg', 'price'],\n",
            "      dtype='object')\n"
          ]
        }
      ]
    },
    {
      "cell_type": "code",
      "source": [
        "# •\tPrint No of Rows & Columns\n",
        "print(automobile.shape)"
      ],
      "metadata": {
        "colab": {
          "base_uri": "https://localhost:8080/"
        },
        "id": "-xnkr86QgIk7",
        "outputId": "602fd75a-27f5-4780-808e-dbece4ccf746"
      },
      "execution_count": null,
      "outputs": [
        {
          "output_type": "stream",
          "name": "stdout",
          "text": [
            "(201, 26)\n"
          ]
        }
      ]
    },
    {
      "cell_type": "code",
      "source": [
        "# •\tFind the Data Types of every column & check if there are any mismatch\n",
        "print(automobile.dtypes)\n",
        "print(automobile.select_dtypes(include='object').columns)"
      ],
      "metadata": {
        "colab": {
          "base_uri": "https://localhost:8080/"
        },
        "id": "7anlJ4oxgIhx",
        "outputId": "f1f4b855-4923-4d9f-8783-710521630444"
      },
      "execution_count": null,
      "outputs": [
        {
          "output_type": "stream",
          "name": "stdout",
          "text": [
            "symboling                int64\n",
            "normalized_losses        int64\n",
            "make                    object\n",
            "fuel_type               object\n",
            "aspiration              object\n",
            "number_of_doors         object\n",
            "body_style              object\n",
            "drive_wheels            object\n",
            "engine_location         object\n",
            "wheel_base             float64\n",
            "length                 float64\n",
            "width                  float64\n",
            "height                 float64\n",
            "curb_weight              int64\n",
            "engine_type             object\n",
            "number_of_cylinders     object\n",
            "engine_size              int64\n",
            "fuel_system             object\n",
            "bore                   float64\n",
            "stroke                 float64\n",
            "compression_ratio      float64\n",
            "horsepower               int64\n",
            "peak_rpm                 int64\n",
            "city_mpg                 int64\n",
            "highway_mpg              int64\n",
            "price                    int64\n",
            "dtype: object\n",
            "Index(['make', 'fuel_type', 'aspiration', 'number_of_doors', 'body_style',\n",
            "       'drive_wheels', 'engine_location', 'engine_type', 'number_of_cylinders',\n",
            "       'fuel_system'],\n",
            "      dtype='object')\n"
          ]
        }
      ]
    },
    {
      "cell_type": "code",
      "source": [
        "# •\tWhat are the minimum & maximum price of the car & state fuel type they belong to\n",
        "#min_price = automobile[automobile['price'] == automobile['price'].min()]\n",
        "#max_price = automobile[automobile['price'] == automobile['price'].max()]\n",
        "print(f\"Minimum Price: {min_price[['price', 'fuel_type']]}\")\n",
        "print(f\"Maximum Price: {max_price[['price', 'fuel_type']]}\")\n"
      ],
      "metadata": {
        "colab": {
          "base_uri": "https://localhost:8080/"
        },
        "id": "FLwtt6c6gIeh",
        "outputId": "3331721a-f449-499d-dba1-f2b3a6594743"
      },
      "execution_count": null,
      "outputs": [
        {
          "output_type": "stream",
          "name": "stdout",
          "text": [
            "Minimum Price:      price fuel_type\n",
            "134   5118       gas\n",
            "Maximum Price:     price fuel_type\n",
            "71  45400       gas\n"
          ]
        }
      ]
    },
    {
      "cell_type": "code",
      "source": [
        "# •\tList all the unique engine types\n",
        "print(automobile[\"engine_type\"].unique())"
      ],
      "metadata": {
        "id": "lT6WCuBMgISg",
        "colab": {
          "base_uri": "https://localhost:8080/"
        },
        "outputId": "5844a6b1-af71-4926-d67f-6d65a019d8d4"
      },
      "execution_count": 27,
      "outputs": [
        {
          "output_type": "stream",
          "name": "stdout",
          "text": [
            "['dohc' 'ohcv' 'ohc' 'l' 'rotor' 'ohcf']\n"
          ]
        }
      ]
    },
    {
      "cell_type": "code",
      "source": [
        "# •\tFind the horsepower range\n",
        "print(f\"Horsepower Range: {automobile['horsepower'].min()} - {automobile['horsepower'].max()}\")"
      ],
      "metadata": {
        "id": "FY73FiIDgUjh",
        "colab": {
          "base_uri": "https://localhost:8080/"
        },
        "outputId": "d3307003-c1f5-43c3-e623-9e957caf7eb1"
      },
      "execution_count": 28,
      "outputs": [
        {
          "output_type": "stream",
          "name": "stdout",
          "text": [
            "Horsepower Range: 48 - 262\n"
          ]
        }
      ]
    },
    {
      "cell_type": "code",
      "source": [
        "# •\tWhat is the average mpg in cities & highway. Which is better?\n",
        "city_avg = automobile[\"city_mpg\"].mean()\n",
        "highway_avg = automobile[\"highway_mpg\"].mean()\n",
        "better_mpg = \"Highway\" if highway_avg > city_avg else \"City\"\n",
        "print(f\"City MPG: {city_avg}, Highway MPG: {highway_avg}. Better: {better_mpg}\")"
      ],
      "metadata": {
        "id": "YjD9_3djgUbR",
        "colab": {
          "base_uri": "https://localhost:8080/"
        },
        "outputId": "59762c3c-546b-4fe7-a63e-12e70a999b5f"
      },
      "execution_count": 29,
      "outputs": [
        {
          "output_type": "stream",
          "name": "stdout",
          "text": [
            "City MPG: 25.17910447761194, Highway MPG: 30.686567164179106. Better: Highway\n"
          ]
        }
      ]
    },
    {
      "cell_type": "code",
      "source": [
        "# •\tWhat are the different Automobile makes present & which has maximum count?\n",
        "print(automobile[\"make\"].unique())\n",
        "print(automobile[\"make\"].value_counts())"
      ],
      "metadata": {
        "id": "n5GyddBzgUYZ",
        "colab": {
          "base_uri": "https://localhost:8080/"
        },
        "outputId": "9d2ede62-0909-417d-8248-4524f5ddd22e"
      },
      "execution_count": 30,
      "outputs": [
        {
          "output_type": "stream",
          "name": "stdout",
          "text": [
            "['alfa-romero' 'audi' 'bmw' 'chevrolet' 'dodge' 'honda' 'isuzu' 'jaguar'\n",
            " 'mazda' 'mercedes-benz' 'mercury' 'mitsubishi' 'nissan' 'peugot'\n",
            " 'plymouth' 'porsche' 'renault' 'saab' 'subaru' 'toyota' 'volkswagen'\n",
            " 'volvo']\n",
            "make\n",
            "toyota           32\n",
            "nissan           18\n",
            "mazda            17\n",
            "mitsubishi       13\n",
            "honda            13\n",
            "volkswagen       12\n",
            "subaru           12\n",
            "peugot           11\n",
            "volvo            11\n",
            "dodge             9\n",
            "mercedes-benz     8\n",
            "bmw               8\n",
            "plymouth          7\n",
            "audi              6\n",
            "saab              6\n",
            "porsche           4\n",
            "jaguar            3\n",
            "chevrolet         3\n",
            "alfa-romero       3\n",
            "isuzu             2\n",
            "renault           2\n",
            "mercury           1\n",
            "Name: count, dtype: int64\n"
          ]
        }
      ]
    },
    {
      "cell_type": "code",
      "source": [
        "# 2. Accessing Data with .loc[]\n",
        "# Using the following DataFrame:\n",
        "# df = pd.DataFrame({\n",
        "#     \"Name\": [\"Alice\", \"Bob\", \"Charlie\", \"David\"],\n",
        "#     \"Age\": [24, 27, 22, 32],\n",
        "#     \"Score\": [85, 90, 78, 88]\n",
        "# })\n",
        "# Task\n",
        "# •\tRetrieve the row where Name == \"Charlie\" using .loc[].\n",
        "# •\tSelect only the Age and Score columns for \"Alice\" and \"Bob\" using .loc[].\n",
        "# ________________________________________\n",
        "import pandas as pd\n",
        "df = pd.DataFrame({\n",
        "     \"Name\": [\"Alice\", \"Bob\", \"Charlie\", \"David\"],\n",
        "     \"Age\": [24, 27, 22, 32],\n",
        "     \"Score\": [85, 90, 78, 88]\n",
        "})\n",
        "#print(df)\n",
        "print(df.loc[df[\"Name\"]==\"David\"])\n",
        "#print(df.loc[df[\"Name\"].isin([\"Alice\", \"Bob\"]), [\"Age\", \"Score\"]])\n"
      ],
      "metadata": {
        "colab": {
          "base_uri": "https://localhost:8080/"
        },
        "id": "X-1ZSP63K_hN",
        "outputId": "6aff36e0-34c0-4bea-a478-f0f9917e9e20"
      },
      "execution_count": null,
      "outputs": [
        {
          "output_type": "stream",
          "name": "stdout",
          "text": [
            "    Name  Age  Score\n",
            "3  David   32     88\n"
          ]
        }
      ]
    },
    {
      "cell_type": "code",
      "source": [
        "# 3. Accessing Data with .iloc[]\n",
        "# Using the same DataFrame from Question 2, write code to:\n",
        "# •\tRetrieve the second row using .iloc[].\n",
        "# •\tExtract the last two rows using .iloc[].\n",
        "# ________________________________________\n",
        "import pandas as pd\n",
        "cc = pd.DataFrame({\n",
        "     \"Name\": [\"Alice\", \"Bob\", \"Charlie\", \"David\"],\n",
        "     \"Age\": [24, 27, 22, 32],\n",
        "     \"Score\": [85, 90, 78, 88]\n",
        "})\n",
        "print(len(cc))\n",
        "#print(cc)\n",
        "print(df.iloc[1])\n",
        "print(df.iloc[-2:])"
      ],
      "metadata": {
        "colab": {
          "base_uri": "https://localhost:8080/"
        },
        "id": "zxgpQRDKLBvD",
        "outputId": "2f8b4be7-0078-4476-da33-5527d726ba0d"
      },
      "execution_count": null,
      "outputs": [
        {
          "output_type": "stream",
          "name": "stdout",
          "text": [
            "4\n",
            "Name     Bob\n",
            "Age       27\n",
            "Score     90\n",
            "Name: 1, dtype: object\n",
            "      Name  Age  Score\n",
            "2  Charlie   22     78\n",
            "3    David   32     88\n"
          ]
        }
      ]
    },
    {
      "cell_type": "code",
      "source": [
        "# 4. Filtering Rows Based on Conditions\n",
        "# Using the following DataFrame:\n",
        "# df = pd.DataFrame({\n",
        "#     \"Employee\": [\"John\", \"Alice\", \"Bob\", \"David\"],\n",
        "#     \"Salary\": [50000, 60000, 55000, 65000],\n",
        "#     \"Department\": [\"IT\", \"HR\", \"IT\", \"Finance\"]\n",
        "# })\n",
        "# Task\n",
        "# Write a Pandas command to:\n",
        "# •\tSelect only IT employees.\n",
        "# •\tSelect employees with a salary greater than 55,000.\n",
        "# ________________________________________\n",
        "import pandas as pd\n",
        "df = pd.DataFrame({\n",
        "     \"Employee\": [\"John\", \"Alice\", \"Bob\", \"David\"],\n",
        "     \"Salary\": [50000, 60000, 55000, 65000],\n",
        "     \"Department\": [\"IT\", \"HR\", \"IT\", \"Finance\"]\n",
        " })\n",
        "print(df.loc[df[\"Department\"] == \"IT\"])\n",
        "#df.loc[df[\"Salary\"]>55000]\n",
        "#print(df[df[\"Department\"]== \"IT\"])\n",
        "#print(df[df[\"Salary\"]>55000])"
      ],
      "metadata": {
        "colab": {
          "base_uri": "https://localhost:8080/"
        },
        "id": "ST07JM2jLW6G",
        "outputId": "f8550bdd-64dd-4762-84b3-99c65084b230"
      },
      "execution_count": null,
      "outputs": [
        {
          "output_type": "stream",
          "name": "stdout",
          "text": [
            "  Employee  Salary Department\n",
            "0     John   50000         IT\n",
            "2      Bob   55000         IT\n"
          ]
        }
      ]
    },
    {
      "cell_type": "code",
      "source": [
        "# 5. Applying Functions to a Column\n",
        "# Using the following DataFrame:\n",
        "# df = pd.DataFrame({\n",
        "#     \"Student\": [\"A\", \"B\", \"C\", \"D\"],\n",
        "#     \"Marks\": [45, 78, 62, 90]\n",
        "# })\n",
        "# Task\n",
        "# Write a function that:\n",
        "# •\tConverts marks below 50 to \"Fail\", and 50 or above to \"Pass\".\n",
        "# •\tApply this function to the \"Marks\" column and create a new column \"Result\".\n",
        "# ________________________________________\n",
        "import pandas as pd\n",
        "df = pd.DataFrame({\n",
        "     \"Student\": [\"A\", \"B\", \"C\", \"D\"],\n",
        "     \"Marks\": [45, 78, 62, 90]\n",
        " })\n",
        "df.loc[df[\"Marks\"] >= 50, \"R\"] = \"Pass\"\n",
        "df.loc[df[\"Marks\"] < 50, \"R\"] = \"Fail\"\n",
        "print(df)"
      ],
      "metadata": {
        "colab": {
          "base_uri": "https://localhost:8080/"
        },
        "id": "bdiwRRb9LW2S",
        "outputId": "e3d99bbe-dd2c-4b5d-b26b-2f93c4692c96"
      },
      "execution_count": null,
      "outputs": [
        {
          "output_type": "stream",
          "name": "stdout",
          "text": [
            "  Student  Marks     R\n",
            "0       A     45  Fail\n",
            "1       B     78  Pass\n",
            "2       C     62  Pass\n",
            "3       D     90  Pass\n"
          ]
        }
      ]
    },
    {
      "cell_type": "code",
      "source": [
        "# 6. NumPy - Creating and Reshaping Arrays\n",
        "# Write Python code to:\n",
        "# •\tCreate a NumPy array with values from 1 to 12.\n",
        "# •\tReshape it into a 3x4 matrix.\n",
        "# ________________________________________\n",
        "import numpy as np\n",
        "# n1 = np.arange(1,13)\n",
        "n1 = np.array([1,2,3,4,5,6,7,8,9,10,11,12])\n",
        "n2 = n1.reshape(3,4)\n",
        "print(n2)"
      ],
      "metadata": {
        "colab": {
          "base_uri": "https://localhost:8080/"
        },
        "id": "U214chjFLWz6",
        "outputId": "e5f1302c-9ba5-410b-b127-a4410a4b6e32"
      },
      "execution_count": null,
      "outputs": [
        {
          "output_type": "stream",
          "name": "stdout",
          "text": [
            "[[ 1  2  3  4]\n",
            " [ 5  6  7  8]\n",
            " [ 9 10 11 12]]\n"
          ]
        }
      ]
    },
    {
      "cell_type": "code",
      "source": [
        "# 7. NumPy - Broadcasting & Element-wise Operations\n",
        "# You are given the following NumPy arrays:\n",
        "# a = np.array([1, 2, 3])\n",
        "# b = np.array([10, 20, 30])\n",
        "# Task\n",
        "# Perform:\n",
        "# 1.\tElement-wise multiplication of a and b.\n",
        "import numpy as np\n",
        "a = np.array([1, 2, 3])\n",
        "b = np.array([10, 20, 30])\n",
        "c = a*b\n",
        "print(c)\n",
        "# 2.\tAdd 5 to each element of a using broadcasting.\n",
        "print(a+5,b+5)\n",
        "# ________________________________________"
      ],
      "metadata": {
        "colab": {
          "base_uri": "https://localhost:8080/"
        },
        "id": "heNACjK-LWxH",
        "outputId": "581155a9-d550-4b61-a34e-c1deac844684"
      },
      "execution_count": null,
      "outputs": [
        {
          "output_type": "stream",
          "name": "stdout",
          "text": [
            "[10 40 90]\n",
            "[6 7 8] [15 25 35]\n"
          ]
        }
      ]
    },
    {
      "cell_type": "code",
      "source": [
        "# 8. Finding Maximum and Minimum Values in a NumPy Array\n",
        "# Given:\n",
        "# arr = np.array([[3, 7, 2], [4, 9, 6]])\n",
        "# Task\n",
        "# •\tFind the maximum value in the entire array.\n",
        "import numpy as np\n",
        "arr = np.array([[3, 7, 2], [4, 9, 6]])\n",
        "print(arr.max())\n",
        "# •\tFind the minimum value in each row.\n",
        "print(arr.min())"
      ],
      "metadata": {
        "colab": {
          "base_uri": "https://localhost:8080/"
        },
        "id": "eFuaUbMbLq3u",
        "outputId": "1c23a8eb-ddb1-4c6c-a7d9-25102f16c765"
      },
      "execution_count": null,
      "outputs": [
        {
          "output_type": "stream",
          "name": "stdout",
          "text": [
            "9\n",
            "2\n"
          ]
        }
      ]
    },
    {
      "cell_type": "code",
      "source": [
        "# 9. Grouping & Aggregation in Pandas\n",
        "# You have the following DataFrame:\n",
        "# df = pd.DataFrame({\n",
        "#     \"Department\": [\"IT\", \"HR\", \"IT\", \"Finance\", \"HR\"],\n",
        "#     \"Salary\": [70000, 50000, 80000, 60000, 52000]\n",
        "# })\n",
        "# Task\n",
        "# Write a Pandas command to:\n",
        "# •\tGroup the DataFrame by \"Department\" and calculate the average salary per department.\n",
        "# ________________________________________\n",
        "import pandas as pd\n",
        "df = pd.DataFrame({\n",
        "     \"Department\": [\"IT\", \"HR\", \"IT\", \"Finance\", \"HR\"],\n",
        "     \"Salary\": [70000, 50000, 80000, 60000, 52000]\n",
        "})\n",
        "avg_salary = df.groupby('Department')['Salary'].mean()\n",
        "\n",
        "print(avg_salary)"
      ],
      "metadata": {
        "colab": {
          "base_uri": "https://localhost:8080/"
        },
        "id": "R4Mfe3i1LWua",
        "outputId": "07ccb9a9-91ef-4aa8-c0ae-6e6dff1b2835"
      },
      "execution_count": null,
      "outputs": [
        {
          "output_type": "stream",
          "name": "stdout",
          "text": [
            "Department\n",
            "Finance    60000.0\n",
            "HR         51000.0\n",
            "IT         75000.0\n",
            "Name: Salary, dtype: float64\n"
          ]
        }
      ]
    },
    {
      "cell_type": "code",
      "source": [
        "# 10. Sorting a DataFrame\n",
        "# Given the following DataFrame:\n",
        "# df = pd.DataFrame({\n",
        "#     \"City\": [\"New York\", \"Los Angeles\", \"Chicago\", \"Houston\"],\n",
        "#     \"Population\": [8419600, 3980400, 2716000, 2328000]\n",
        "# })\n",
        "# Task\n",
        "# •\tSort the DataFrame by Population in descending order.\n",
        "# ________________________________________\n",
        "import pandas as pd\n",
        "df = pd.DataFrame({\n",
        "     \"City\": [\"New York\", \"Los Angeles\", \"Chicago\", \"Houston\"],\n",
        "     \"Population\": [8419600, 3980400, 2716000, 2328000]\n",
        " })\n",
        "print(df.sort_values(\"Population\",ascending=False))\n"
      ],
      "metadata": {
        "colab": {
          "base_uri": "https://localhost:8080/"
        },
        "id": "xzWoufCILWrn",
        "outputId": "569aed1e-e997-49ba-b8dc-9089cc5acf56"
      },
      "execution_count": null,
      "outputs": [
        {
          "output_type": "stream",
          "name": "stdout",
          "text": [
            "          City  Population\n",
            "0     New York     8419600\n",
            "1  Los Angeles     3980400\n",
            "2      Chicago     2716000\n",
            "3      Houston     2328000\n"
          ]
        }
      ]
    },
    {
      "cell_type": "code",
      "source": [
        "# 11. Multi-Indexing in Pandas\n",
        "# You are given the following DataFrame:\n",
        "# data = {\n",
        "#     \"Region\": [\"North\", \"North\", \"South\", \"South\", \"East\", \"East\"],\n",
        "#     \"City\": [\"A\", \"B\", \"A\", \"B\", \"A\", \"B\"],\n",
        "#     \"Sales\": [200, 150, 180, 220, 300, 250]\n",
        "# }\n",
        "# df = pd.DataFrame(data).set_index([\"Region\", \"City\"])\n",
        "# Task\n",
        "# •\tRetrieve the sales value for City A in the South Region using multi-indexing.\n",
        "# ________________________________________\n",
        "import pandas as pd\n",
        "data = {\n",
        "     \"Region\": [\"North\", \"North\", \"South\", \"South\", \"East\", \"East\"],\n",
        "     \"City\": [\"A\", \"B\", \"A\", \"B\", \"A\", \"B\"],\n",
        "     \"Sales\": [200, 150, 180, 220, 300, 250]\n",
        " }\n",
        "df = pd.DataFrame(data).set_index([\"Region\", \"City\"])\n",
        "print(df.loc[(\"South\",\"A\")])\n",
        "# df.loc[(\"South\",\"A\"), \"Sales\"]"
      ],
      "metadata": {
        "colab": {
          "base_uri": "https://localhost:8080/"
        },
        "id": "Zx6s8O3sLWox",
        "outputId": "5c21ef8e-7be1-4db9-c513-6f2da74bf4cb"
      },
      "execution_count": null,
      "outputs": [
        {
          "output_type": "stream",
          "name": "stdout",
          "text": [
            "Sales    180\n",
            "Name: (South, A), dtype: int64\n"
          ]
        }
      ]
    },
    {
      "cell_type": "code",
      "source": [
        "# 12. Creating a DataFrame from a NumPy Array\n",
        "# Generate a 5x4 NumPy array with random integers between 10 and 99 and convert it into a Pandas DataFrame with column names [\"A\", \"B\", \"C\", \"D\"].\n",
        "# ________________________________________\n",
        "import numpy as np\n",
        "arr = np.random.randint(10,99,size=(5,4))\n",
        "print(arr)\n",
        "df = pd.DataFrame(arr, columns=[\"A\",\"B\",\"C\",\"D\"])\n",
        "print(df)"
      ],
      "metadata": {
        "colab": {
          "base_uri": "https://localhost:8080/"
        },
        "id": "a4KQtqj3LWmD",
        "outputId": "c9fdb978-2ecd-410d-9be7-28569c68cd06"
      },
      "execution_count": null,
      "outputs": [
        {
          "output_type": "stream",
          "name": "stdout",
          "text": [
            "[[57 29 12 77]\n",
            " [69 25 80 83]\n",
            " [58 56 30 94]\n",
            " [41 60 22 77]\n",
            " [97 90 42 16]]\n",
            "    A   B   C   D\n",
            "0  57  29  12  77\n",
            "1  69  25  80  83\n",
            "2  58  56  30  94\n",
            "3  41  60  22  77\n",
            "4  97  90  42  16\n"
          ]
        }
      ]
    },
    {
      "cell_type": "code",
      "source": [
        "# 13. Conditional Column Update\n",
        "# Given the following DataFrame:\n",
        "# df = pd.DataFrame({\n",
        "#     \"Student\": [\"Alice\", \"Bob\", \"Charlie\", \"David\"],\n",
        "#     \"Marks\": [88, 45, 76, 90],\n",
        "#     \"Attendance\": [85, 50, 90, 60]\n",
        "# })\n",
        "# Task\n",
        "# Write a one-liner Pandas command to set \"Marks\" to 0 for students whose \"Attendance\" is less than 60.\n",
        "# ________________________________________\n",
        "import pandas as pd\n",
        "df = pd.DataFrame({\n",
        "     \"Student\": [\"Alice\", \"Bob\", \"Charlie\", \"David\"],\n",
        "     \"Marks\": [88, 45, 76, 90],\n",
        "     \"Attendance\": [85, 50, 90, 60]\n",
        "})\n",
        "df.loc[df[\"Attendance\"]<60, \"Marks\"]=0\n",
        "print(df)"
      ],
      "metadata": {
        "colab": {
          "base_uri": "https://localhost:8080/"
        },
        "id": "H4SRAPP2LWju",
        "outputId": "e284b7b4-8718-405b-83a3-4c8e875cee4c"
      },
      "execution_count": null,
      "outputs": [
        {
          "output_type": "stream",
          "name": "stdout",
          "text": [
            "   Student  Marks  Attendance\n",
            "0    Alice     88          85\n",
            "1      Bob      0          50\n",
            "2  Charlie     76          90\n",
            "3    David     90          60\n"
          ]
        }
      ]
    },
    {
      "cell_type": "code",
      "source": [
        "# 14. Advanced Filtering\n",
        "# From a CSV file \"employees.csv\" with columns:\n",
        "# EmployeeID, Department, Salary, Experience (in years).\n",
        "# Note: You should create “employees.csv” & perform the below task\n",
        "# Task\n",
        "# Write a Pandas query to:\n",
        "# •\tSelect employees from \"IT\" or \"Finance\" department\n",
        "# •\tHaving Salary > 60,000\n",
        "# •\tAND at least 5 years of experience\n",
        "# # _______________________________________\n",
        "import pandas as pd\n",
        "data = {\n",
        "    \"EmployeeID\": [1, 2, 3, 4, 5],\n",
        "    \"Department\": [\"IT\", \"Finance\", \"HR\", \"IT\", \"Finance\"],\n",
        "    \"Salary\": [70000, 80000, 55000, 65000, 75000],\n",
        "    \"Experience\": [6, 7, 3, 5, 8]}\n",
        "df = pd.DataFrame(data)\n",
        "\n",
        "df.to_csv(\"employees.csv\", index=False)\n",
        "\n",
        "# Re-reading the CSV file\n",
        "df = pd.read_csv('employees.csv')\n",
        "\n",
        "# Print the original dataframe\n",
        "print(df)\n",
        "\n",
        "# Employees from \"IT\" or \"Finance\" department\n",
        "print(\"Employees from \\\"IT\\\" or \\\"Finance\\\" department\")\n",
        "print(df[(df[\"Department\"].isin([\"IT\", \"Finance\"]))])\n",
        "\n",
        "# Employees having salary > 60,000\n",
        "print(\"Employees Having Salary > 60,000\")\n",
        "print(df[df[\"Salary\"] > 60000])\n",
        "\n",
        "# Employees with at least 5 years of experience\n",
        "print(\"Employees at least 5 years of experience\")\n",
        "print(df[df[\"Experience\"] >= 5])"
      ],
      "metadata": {
        "id": "WTy40d8fLWT1",
        "colab": {
          "base_uri": "https://localhost:8080/"
        },
        "outputId": "733c14ce-096e-4a82-b2bb-d1da41fccea4"
      },
      "execution_count": null,
      "outputs": [
        {
          "output_type": "stream",
          "name": "stdout",
          "text": [
            "   EmployeeID Department  Salary  Experience\n",
            "0           1         IT   70000           6\n",
            "1           2    Finance   80000           7\n",
            "2           3         HR   55000           3\n",
            "3           4         IT   65000           5\n",
            "4           5    Finance   75000           8\n",
            "Employees from \"IT\" or \"Finance\" department\n",
            "   EmployeeID Department  Salary  Experience\n",
            "0           1         IT   70000           6\n",
            "1           2    Finance   80000           7\n",
            "3           4         IT   65000           5\n",
            "4           5    Finance   75000           8\n",
            "Employees Having Salary > 60,000\n",
            "   EmployeeID Department  Salary  Experience\n",
            "0           1         IT   70000           6\n",
            "1           2    Finance   80000           7\n",
            "3           4         IT   65000           5\n",
            "4           5    Finance   75000           8\n",
            "Employees at least 5 years of experience\n",
            "   EmployeeID Department  Salary  Experience\n",
            "0           1         IT   70000           6\n",
            "1           2    Finance   80000           7\n",
            "3           4         IT   65000           5\n",
            "4           5    Finance   75000           8\n"
          ]
        }
      ]
    },
    {
      "cell_type": "code",
      "source": [
        "# 15. Grouping & Aggregation with Multiple Conditions\n",
        "# Given the following DataFrame:\n",
        "# df = pd.DataFrame({\n",
        "#     \"Department\": [\"IT\", \"HR\", \"IT\", \"Finance\", \"HR\", \"Finance\", \"IT\"],\n",
        "#     \"Salary\": [70000, 50000, 80000, 60000, 52000, 72000, 65000],\n",
        "#     \"Experience\": [5, 4, 7, 3, 2, 8, 6]\n",
        "# })\n",
        "# Task Find the average salary for each department, but only for employees with at least 5 years of experience.\n",
        "# ________________________________________\n",
        "import pandas as pd\n",
        "df = pd.DataFrame({\n",
        "     \"Department\": [\"IT\", \"HR\", \"IT\", \"Finance\", \"HR\", \"Finance\", \"IT\"],\n",
        "     \"Salary\": [70000, 50000, 80000, 60000, 52000, 72000, 65000],\n",
        "     \"Experience\": [5, 4, 7, 3, 2, 8, 6]\n",
        "})\n",
        "new_df = df.loc[df[\"Experience\"]>=5]\n",
        "print(new_df)\n",
        "print(new_df.groupby(\"Department\")[\"Salary\"].mean())"
      ],
      "metadata": {
        "colab": {
          "base_uri": "https://localhost:8080/"
        },
        "id": "Gjupv4iMMB6T",
        "outputId": "6f18a67a-1309-4613-9a66-b02f18851455"
      },
      "execution_count": null,
      "outputs": [
        {
          "output_type": "stream",
          "name": "stdout",
          "text": [
            "  Department  Salary  Experience\n",
            "0         IT   70000           5\n",
            "2         IT   80000           7\n",
            "5    Finance   72000           8\n",
            "6         IT   65000           6\n",
            "Department\n",
            "Finance    72000.000000\n",
            "IT         71666.666667\n",
            "Name: Salary, dtype: float64\n"
          ]
        }
      ]
    },
    {
      "cell_type": "code",
      "source": [
        "# 16. NumPy - Complex Indexing\n",
        "# Create a 5x5 NumPy array with random values between 1 and 100.\n",
        "# Write a NumPy command to:\n",
        "# •\tExtract only even numbers from the array.\n",
        "# •\tExtract values from the last row and last column.\n",
        "# •\tReplace all values greater than 50 with 0.\n",
        "# ________________________________________\n",
        "import numpy as np\n",
        "n2 = np.random.randint(1,100, size=(5,5))\n",
        "print(n2)\n",
        "print(\"only even numbers from the array\",n2[n2%2==0])\n",
        "print(\"last row and last column\", n2[-1,:],n2[:,-1])\n",
        "n3=n2.copy()\n",
        "n3[n3 > 50]=0\n",
        "print(\"replace all values greater than 50 with 0\", )\n",
        "print(n3)"
      ],
      "metadata": {
        "colab": {
          "base_uri": "https://localhost:8080/"
        },
        "id": "axmTyQU7MB2J",
        "outputId": "3b23f51a-7ae4-45ad-e706-5c6d1225c6e0"
      },
      "execution_count": null,
      "outputs": [
        {
          "output_type": "stream",
          "name": "stdout",
          "text": [
            "[[31 29 74 12 62]\n",
            " [80 78 47 15 41]\n",
            " [61 92 80 24 55]\n",
            " [54 76 46 26 20]\n",
            " [51 24 90 12 60]]\n",
            "only even numbers from the array [74 12 62 80 78 92 80 24 54 76 46 26 20 24 90 12 60]\n",
            "last row and last column [51 24 90 12 60] [62 41 55 20 60]\n",
            "replace all values greater than 50 with 0\n",
            "[[31 29  0 12  0]\n",
            " [ 0  0 47 15 41]\n",
            " [ 0  0  0 24  0]\n",
            " [ 0  0 46 26 20]\n",
            " [ 0 24  0 12  0]]\n"
          ]
        }
      ]
    },
    {
      "cell_type": "code",
      "source": [
        "# 17. Matrix Multiplication\n",
        "# Given the two NumPy matrices:\n",
        "# A = np.array([[2, 4], [6, 8]])\n",
        "# B = np.array([[1, 3], [5, 7]])\n",
        "# Task\n",
        "# Perform matrix multiplication and output the result.\n",
        "# ________________________________________\n",
        "import numpy as np\n",
        "A = np.array([[2, 4], [6, 8]])\n",
        "B = np.array([[1, 3], [5, 7]])\n",
        "C = np.array(A*B)\n",
        "print(C)"
      ],
      "metadata": {
        "colab": {
          "base_uri": "https://localhost:8080/"
        },
        "id": "HH6FlwheMBzo",
        "outputId": "7e345168-cc2f-4758-9016-1ceefcf96d71"
      },
      "execution_count": null,
      "outputs": [
        {
          "output_type": "stream",
          "name": "stdout",
          "text": [
            "[[ 2 12]\n",
            " [30 56]]\n"
          ]
        }
      ]
    },
    {
      "cell_type": "code",
      "source": [
        "# 18. Finding Unique & Common Elements\n",
        "# You are given two NumPy arrays:\n",
        "# arr1 = np.array([10, 20, 30, 40, 50, 60])\n",
        "# arr2 = np.array([30, 40, 70, 80, 90])\n",
        "# Task\n",
        "# •\tFind the elements that are common in both arrays.\n",
        "# •\tFind the elements that are only present in arr1 but not in arr2.\n",
        "# ________________________________________\n",
        "import numpy as np\n",
        "arr1 = np.array([10, 20, 30, 40, 50, 60])\n",
        "arr2 = np.array([30, 40, 70, 80, 90])\n",
        "common_elements = np.intersect1d(arr1, arr2)\n",
        "print(common_elements)\n",
        "unique_in_arr1 = np.setdiff1d(arr1, arr2)\n",
        "print(unique_in_arr1)"
      ],
      "metadata": {
        "colab": {
          "base_uri": "https://localhost:8080/"
        },
        "id": "dA8ylVsmMBxO",
        "outputId": "e51521f7-e63e-405b-f54f-6cd880d14b7c"
      },
      "execution_count": null,
      "outputs": [
        {
          "output_type": "stream",
          "name": "stdout",
          "text": [
            "[30 40]\n",
            "[10 20 50 60]\n"
          ]
        }
      ]
    },
    {
      "cell_type": "code",
      "source": [
        "# 19. Sorting & Ranking in Pandas\n",
        "# You are given the following DataFrame:\n",
        "# df = pd.DataFrame({\n",
        "#     \"Player\": [\"A\", \"B\", \"C\", \"D\"],\n",
        "#     \"Score\": [200, 450, 300, 150]\n",
        "# })\n",
        "# Task\n",
        "# •\tSort the players by descending Score.\n",
        "# •\tAssign ranking to each player (1st, 2nd, 3rd...) without skipping numbers.\n",
        "# ________________________________________\n",
        "import pandas as pd\n",
        "df = pd.DataFrame({\n",
        "     \"Player\": [\"A\", \"B\", \"C\", \"D\"],\n",
        "     \"Score\": [200, 450, 300, 150]\n",
        "})\n",
        "df=df.sort_values(\"Score\", ascending = False)\n",
        "df[\"Rank\"]=range(1,5)\n",
        "print(df.sort_index())\n",
        "# print(X)"
      ],
      "metadata": {
        "colab": {
          "base_uri": "https://localhost:8080/"
        },
        "id": "uR1QtXGgMBvR",
        "outputId": "df881e1c-a7c9-4803-cc97-30626a04906a"
      },
      "execution_count": null,
      "outputs": [
        {
          "output_type": "stream",
          "name": "stdout",
          "text": [
            "  Player  Score  Rank\n",
            "0      A    200     3\n",
            "1      B    450     1\n",
            "2      C    300     2\n",
            "3      D    150     4\n"
          ]
        }
      ]
    },
    {
      "cell_type": "code",
      "source": [
        "# 20. Optimizing Pandas Performance\n",
        "# You have a large CSV file (\"big_data.csv\") with 1 million rows.\n",
        "# Note: You should search & download a large csv file from any portal & use it to perform below tasks\n",
        "# Task\n",
        "# Write optimized Pandas code to:\n",
        "# •\tLoad only specific columns: \"CustomerID\" and \"PurchaseAmount\".\n",
        "# •\tLoad only the first 100,000 rows.\n",
        "# •\tUse an efficient data type for \"CustomerID\" to save memory.\n",
        "import pandas as pd\n"
      ],
      "metadata": {
        "id": "DdlEG1ZyM1ts"
      },
      "execution_count": null,
      "outputs": []
    },
    {
      "cell_type": "code",
      "source": [],
      "metadata": {
        "id": "MLtSf4ghM1qD"
      },
      "execution_count": null,
      "outputs": []
    },
    {
      "cell_type": "code",
      "source": [],
      "metadata": {
        "id": "6stSCzagM1n8"
      },
      "execution_count": null,
      "outputs": []
    },
    {
      "cell_type": "code",
      "source": [],
      "metadata": {
        "id": "VSp4EdwwM1le"
      },
      "execution_count": null,
      "outputs": []
    }
  ]
}