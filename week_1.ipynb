{
  "nbformat": 4,
  "nbformat_minor": 0,
  "metadata": {
    "colab": {
      "provenance": [],
      "authorship_tag": "ABX9TyONJ/640PVbrL0CGJMamH03",
      "include_colab_link": true
    },
    "kernelspec": {
      "name": "python3",
      "display_name": "Python 3"
    },
    "language_info": {
      "name": "python"
    }
  },
  "cells": [
    {
      "cell_type": "markdown",
      "metadata": {
        "id": "view-in-github",
        "colab_type": "text"
      },
      "source": [
        "<a href=\"https://colab.research.google.com/github/techbala1590/weekly-task/blob/main/week_1.ipynb\" target=\"_parent\"><img src=\"https://colab.research.google.com/assets/colab-badge.svg\" alt=\"Open In Colab\"/></a>"
      ]
    },
    {
      "cell_type": "code",
      "execution_count": null,
      "metadata": {
        "colab": {
          "base_uri": "https://localhost:8080/"
        },
        "id": "7edyDpPHa1co",
        "outputId": "8c1ac884-949d-4bab-cf68-3aa6474f19b2"
      },
      "outputs": [
        {
          "output_type": "stream",
          "name": "stdout",
          "text": [
            "Balaji <class 'str'> 22 <class 'int'> 5.6 <class 'float'>\n"
          ]
        }
      ],
      "source": [
        "#Types of Variables\n",
        "#Question: Write a Python program that defines three types of variables:\n",
        "#1. A string variable to store your name.\n",
        "#2. An integer variable to store your age.\n",
        "#3. A float variable to store your height in meters.\n",
        "#Print these variables along with their types using the type() function\n",
        "\n",
        "\n",
        "name = \"Balaji\"\n",
        "age = 22\n",
        "height = 5.6\n",
        "print(name,type(name),age,type(age),height,type(height))\n",
        "\n",
        "\n"
      ]
    },
    {
      "cell_type": "code",
      "source": [
        "#Lists Question: Create a list of five fruits ([\"apple\", \"banana\", \"cherry\", \"date\", \"elderberry\"]):\n",
        "#Print the first and last fruit from the list.\n",
        "#Add a new fruit to the end of the list.\n",
        "#Remove the second fruit from the list.\n",
        "#Sort the list in alphabetical order and print it\n",
        "\n",
        "fruitsL = [\"apple\",\"banana\",\"cherry\",\"date\",\"elderberry\"]\n",
        "print(fruitsL[0])\n",
        "print(fruitsL[4])\n",
        "fruitsL.append(\"grape\")\n",
        "fruitsL.pop(1)\n",
        "fruitsL.sort()\n",
        "print(fruitsL)"
      ],
      "metadata": {
        "colab": {
          "base_uri": "https://localhost:8080/"
        },
        "id": "b1dPpgtEbMxW",
        "outputId": "9e4d8afa-a3fd-47d4-bb51-7c4b809e442d"
      },
      "execution_count": null,
      "outputs": [
        {
          "output_type": "stream",
          "name": "stdout",
          "text": [
            "apple\n",
            "elderberry\n",
            "['apple', 'cherry', 'date', 'elderberry', 'grape']\n"
          ]
        }
      ]
    },
    {
      "cell_type": "code",
      "source": [
        "#Tuples Question: Create a tuple to store the names of three programming languages (\"Python\", \"Java\", \"C++\"):\n",
        "#Access the second language in the tuple.\n",
        "#Try to replace the second language with \"JavaScript\". What happens?\n",
        "#Convert the tuple to a list, make the modification, and convert it back to a tuple.\n",
        "\n",
        "languages = (\"Python\", \"Java\", \"C++\")\n",
        "print(languages[1])\n",
        "\n",
        "# languages[1] = \"JavaScript\"  # This will raise a TypeError\n",
        "\n",
        "languages_list = list(languages)\n",
        "languages_list[1] = \"JavaScript\"\n",
        "languages = tuple(languages_list)\n",
        "\n",
        "print(languages)"
      ],
      "metadata": {
        "colab": {
          "base_uri": "https://localhost:8080/"
        },
        "id": "bfTqpvWubMkK",
        "outputId": "0de221d4-b13f-4738-c8d5-23df7666090d"
      },
      "execution_count": null,
      "outputs": [
        {
          "output_type": "stream",
          "name": "stdout",
          "text": [
            "Java\n",
            "('Python', 'JavaScript', 'C++')\n"
          ]
        }
      ]
    },
    {
      "cell_type": "code",
      "source": [
        "#Data Dictionary - Basics Question: Create a dictionary with the following student details: • name: \"John\" • age: 18 • grade: \"A\"\n",
        "#Access and print the value of grade.\n",
        "#Add a new key-value pair for hobby with the value \"reading\".\n",
        "#Delete the age key from the dictionary.\n",
        "\n",
        "student = {\"name\": \"John\", \"age\": 18, \"grade\": \"A\"}\n",
        "\n",
        "print(student[\"grade\"])\n",
        "\n",
        "student[\"hobby\"] = \"reading\"\n",
        "print(student)\n",
        "\n",
        "del student[\"age\"]\n",
        "\n",
        "print(student)"
      ],
      "metadata": {
        "colab": {
          "base_uri": "https://localhost:8080/"
        },
        "id": "JktHS-9jbMV3",
        "outputId": "5d7cb6c1-d30d-4cbf-bd4f-00372c3128a7"
      },
      "execution_count": null,
      "outputs": [
        {
          "output_type": "stream",
          "name": "stdout",
          "text": [
            "A\n",
            "{'name': 'John', 'age': 18, 'grade': 'A', 'hobby': 'reading'}\n",
            "{'name': 'John', 'grade': 'A', 'hobby': 'reading'}\n"
          ]
        }
      ]
    },
    {
      "cell_type": "code",
      "source": [
        "#Data Dictionary - Operations Question: You are given the following dictionary: marks = {\"Math\": 85, \"Science\": 90, \"English\": 78}\n",
        "#1.Find the average marks across all subjects.\n",
        "#Update the marks for Math to 88.\n",
        "#Check if the key \"History\" exists in the dictionary.\n",
        "\n",
        "marks = {\"Math\": 85, \"Science\": 90, \"English\": 78}\n",
        "\n",
        "average_marks = sum(marks.values()) / len(marks)\n",
        "print(\"Average Marks:\", average_marks)\n",
        "\n",
        "marks[\"Math\"] = 88\n",
        "\n",
        "history_exists = \"History\" in marks\n",
        "print(\"Is 'History' present?\", history_exists)\n",
        "\n",
        "print(marks)"
      ],
      "metadata": {
        "colab": {
          "base_uri": "https://localhost:8080/"
        },
        "id": "Ky5gpI1oeRCb",
        "outputId": "36a2d69b-5af7-4ff5-f0c3-d5f5b9ec943e"
      },
      "execution_count": null,
      "outputs": [
        {
          "output_type": "stream",
          "name": "stdout",
          "text": [
            "Average Marks: 84.33333333333333\n",
            "Is 'History' present? False\n",
            "{'Math': 88, 'Science': 90, 'English': 78}\n"
          ]
        }
      ]
    },
    {
      "cell_type": "code",
      "source": [
        "#Functions - Basics Question: Write a Python function named square that takes an integer as input and returns its square.\n",
        "#Call the function with the value 7 and print the result\n",
        "\n",
        "def square(num):\n",
        "    return num * num\n",
        "\n",
        "print(square(7))"
      ],
      "metadata": {
        "colab": {
          "base_uri": "https://localhost:8080/"
        },
        "id": "79LLHfiJeQ-h",
        "outputId": "216a1ad4-bbad-4ff7-e64c-9da795858921"
      },
      "execution_count": null,
      "outputs": [
        {
          "output_type": "stream",
          "name": "stdout",
          "text": [
            "49\n"
          ]
        }
      ]
    },
    {
      "cell_type": "code",
      "source": [
        "#Functions - Default Arguments Question: Write a Python function named greet that takes two parameters: • name (a string) • message (a string with a default value of \"Welcome!\") Call the function twice:\n",
        "#Once by providing both name and message.\n",
        "#Once by providing only name.\n",
        "\n",
        "def greet(name, message=\"Welcome!\"):\n",
        "    print(f\"{message}, {name}\")\n",
        "\n",
        "greet(\"Bala\", \"Hello\")\n",
        "\n",
        "greet(\"Bala\")\n",
        "\n"
      ],
      "metadata": {
        "colab": {
          "base_uri": "https://localhost:8080/"
        },
        "id": "WM_f3SuveQ8I",
        "outputId": "55b76870-f132-4358-961f-da8d37458962"
      },
      "execution_count": null,
      "outputs": [
        {
          "output_type": "stream",
          "name": "stdout",
          "text": [
            "Hello, Bala\n",
            "Welcome!, Bala\n"
          ]
        }
      ]
    },
    {
      "cell_type": "code",
      "source": [
        "\n",
        "#Functions - Positional and Keyword Arguments Question: Write a Python function named student_info that accepts the following parameters: • name (string) • age (integer) • grade (string, default value is \"A\") Call the function with:\n",
        "#Positional arguments only.\n",
        "#Keyword arguments only. Print the result in each case.\n",
        "\n",
        "def student_info(name, age, grade=\"A\"):\n",
        "    print(f\"Name: {name}, Age: {age}, Grade: {grade}\")\n",
        "\n",
        "\n",
        "student_info(\"Bala\", 22, \"B\")\n",
        "\n",
        "student_info(name=\"Bala\", age=22, grade=\"A+\")"
      ],
      "metadata": {
        "colab": {
          "base_uri": "https://localhost:8080/"
        },
        "id": "-vG6aV1weQ57",
        "outputId": "3917cbeb-f17a-4a7c-ba8c-5e1533484428"
      },
      "execution_count": null,
      "outputs": [
        {
          "output_type": "stream",
          "name": "stdout",
          "text": [
            "Name: Bala, Age: 22, Grade: B\n",
            "Name: Bala, Age: 22, Grade: A+\n"
          ]
        }
      ]
    },
    {
      "cell_type": "code",
      "source": [
        "#Lists and Functions Question: Write a Python program with the following requirements:\n",
        " #a) Create a list of numbers: [10, 20, 30, 40, 50].\n",
        " #) Define a function named double_values that takes a list as input and returns a new list with each value doubled.\n",
        " #c) Pass the list to the function and print the returned list.\n",
        "\n",
        " # a) Create a list of numbers\n",
        "numbers = [10, 20, 30, 40, 50]\n",
        "\n",
        "# b) Define a function to double the values\n",
        "def double_values(lst):\n",
        "    return [x * 2 for x in lst]\n",
        "\n",
        "# c) Pass the list to the function and print the result\n",
        "doubled_numbers = double_values(numbers)\n",
        "print(doubled_numbers)"
      ],
      "metadata": {
        "colab": {
          "base_uri": "https://localhost:8080/"
        },
        "id": "6_dPCSrIiyGr",
        "outputId": "73103e95-3e3d-4873-d5c6-679632f0e646"
      },
      "execution_count": null,
      "outputs": [
        {
          "output_type": "stream",
          "name": "stdout",
          "text": [
            "[20, 40, 60, 80, 100]\n"
          ]
        }
      ]
    },
    {
      "cell_type": "code",
      "source": [
        "#Combining Data Dictionary and Functions Question:\n",
        "#Create a dictionary named students to store the names and grades of three students: students = {\"Alice\": 85, \"Bob\": 78, \"Eve\": 92}\n",
        " #a) Write a function named add_student that accepts a dictionary, a student name, and a grade, then adds the student to the dictionary.\n",
        " #b) Write another function named average_grade that calculates the average grade of all students in the dictionary. Call the functions to:\n",
        "#Add a new student (\"David\": 88).\n",
        "#Calculate and print the average grade\n",
        "\n",
        "students = {\"Alice\": 85, \"Bob\": 78, \"Eve\": 92}\n",
        "\n",
        "# Function to add a student to the dictionary\n",
        "def add_student(student_dict, name, grade):\n",
        "    student_dict[name] = grade\n",
        "\n",
        "# Function to calculate the average grade\n",
        "def average_grade(student_dict):\n",
        "    return sum(student_dict.values()) / len(student_dict)\n",
        "\n",
        "# Add a new student\n",
        "add_student(students, \"David\", 88)\n",
        "\n",
        "# Calculate and print the average grade\n",
        "avg = average_grade(students)\n",
        "print(\"Average Grade:\", avg)"
      ],
      "metadata": {
        "colab": {
          "base_uri": "https://localhost:8080/"
        },
        "id": "zN9mcg3kiyEu",
        "outputId": "e48acbbd-49ac-439a-9c1a-dce755bc5201"
      },
      "execution_count": null,
      "outputs": [
        {
          "output_type": "stream",
          "name": "stdout",
          "text": [
            "Average Grade: 85.75\n"
          ]
        }
      ]
    }
  ]
}